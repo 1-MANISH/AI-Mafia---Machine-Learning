{
 "cells": [
  {
   "cell_type": "code",
   "execution_count": 1,
   "id": "849598ff",
   "metadata": {},
   "outputs": [],
   "source": [
    "from bs4 import BeautifulSoup\n",
    "import requests\n",
    "import pandas as pd\n",
    "from pandas import Series"
   ]
  },
  {
   "cell_type": "code",
   "execution_count": 5,
   "id": "27837426",
   "metadata": {},
   "outputs": [],
   "source": [
    "url='https://unsplash.com/'\n",
    "\n",
    "rejult=requests.get(url)\n",
    "# print(rejult.content)\n",
    "\n",
    "soup=BeautifulSoup(rejult.content,'lxml')\n",
    "# print(soup)\n"
   ]
  },
  {
   "cell_type": "code",
   "execution_count": 8,
   "id": "e3fc34c7",
   "metadata": {},
   "outputs": [],
   "source": [
    "sumry=soup.findAll(\"img\")\n",
    "# print(sumry)\n",
    "scr=[link for link in sumry ]\n",
    "# print(scr)\n"
   ]
  },
  {
   "cell_type": "code",
   "execution_count": 17,
   "id": "5115fef0",
   "metadata": {},
   "outputs": [
    {
     "name": "stdout",
     "output_type": "stream",
     "text": [
      "[]\n"
     ]
    }
   ],
   "source": [
    "imag=soup.findAll(\"src\")\n",
    "print(imag)"
   ]
  },
  {
   "cell_type": "code",
   "execution_count": null,
   "id": "4436f199",
   "metadata": {},
   "outputs": [],
   "source": []
  }
 ],
 "metadata": {
  "kernelspec": {
   "display_name": "Python 3",
   "language": "python",
   "name": "python3"
  },
  "language_info": {
   "codemirror_mode": {
    "name": "ipython",
    "version": 3
   },
   "file_extension": ".py",
   "mimetype": "text/x-python",
   "name": "python",
   "nbconvert_exporter": "python",
   "pygments_lexer": "ipython3",
   "version": "3.8.8"
  }
 },
 "nbformat": 4,
 "nbformat_minor": 5
}
