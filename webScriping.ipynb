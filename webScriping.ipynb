{
 "cells": [
  {
   "cell_type": "markdown",
   "id": "d404689e",
   "metadata": {},
   "source": [
    "# Web scrapping\n",
    "- we want to dounlod useful information from a website"
   ]
  },
  {
   "cell_type": "code",
   "execution_count": 1,
   "id": "880b61ef",
   "metadata": {},
   "outputs": [
    {
     "data": {
      "text/plain": [
       "'\\n- Check sites terms and conditions-amazon\\n- Are you going to the DOS attack-space out our requests\\n- keep a check on your scrapers\\n- Clean up your data,preprocessing data contract\\n- configure our scarper\\n'"
      ]
     },
     "execution_count": 1,
     "metadata": {},
     "output_type": "execute_result"
    }
   ],
   "source": [
    "\n",
    "# Scrapping consideration\n",
    "'''\n",
    "- Check sites terms and conditions-amazon\n",
    "- Are you going to the DOS attack-space out our requests\n",
    "- keep a check on your scrapers\n",
    "- Clean up your data,preprocessing data contract\n",
    "- configure our scarper\n",
    "\n",
    "\n",
    "modules used\n",
    "\n",
    "- BeautifulSoup:\n",
    "    through this we can do scrapering or collect info of website\n",
    "- lxml parser:\n",
    "    \n",
    "- requests:\n",
    "    \n",
    "'''\n"
   ]
  },
  {
   "cell_type": "code",
   "execution_count": 1,
   "id": "39af9043",
   "metadata": {},
   "outputs": [],
   "source": [
    "from bs4 import BeautifulSoup\n",
    "import requests\n",
    "import pandas as pd\n",
    "from pandas import Series,DataFrame"
   ]
  },
  {
   "cell_type": "code",
   "execution_count": 2,
   "id": "5d2cfeb6",
   "metadata": {},
   "outputs": [],
   "source": [
    "url='https://www.studentnewsdaily.com/archive/daily-news-article/'"
   ]
  },
  {
   "cell_type": "code",
   "execution_count": 3,
   "id": "78aa9215",
   "metadata": {},
   "outputs": [],
   "source": [
    "# 1 Call the API Server using requests module\n",
    "\n",
    "# get requests for fetching information\n",
    "# post requests for submitting information to the server\n",
    "\n",
    "rejult=requests.get(url)\n",
    "\n",
    "# what we have get\n",
    "# print(rejult.content)\n",
    "\n",
    "# let print using BeautifulSoup , html content we are going to be have\n",
    "soup=BeautifulSoup(rejult.content,'lxml')\n",
    "\n",
    "# print(soup)"
   ]
  },
  {
   "cell_type": "code",
   "execution_count": 8,
   "id": "1f1792c3",
   "metadata": {},
   "outputs": [],
   "source": [
    "content=soup.find('div')"
   ]
  },
  {
   "cell_type": "code",
   "execution_count": 5,
   "id": "fe0dd1d9",
   "metadata": {},
   "outputs": [],
   "source": [
    "# print(content)"
   ]
  },
  {
   "cell_type": "code",
   "execution_count": 9,
   "id": "c4f9b799",
   "metadata": {},
   "outputs": [],
   "source": [
    "summary=content.find(class_=\"navbar-brand\")\n"
   ]
  },
  {
   "cell_type": "code",
   "execution_count": 10,
   "id": "2e12e64f",
   "metadata": {},
   "outputs": [
    {
     "name": "stdout",
     "output_type": "stream",
     "text": [
      "<a class=\"navbar-brand\" href=\"/\">\n",
      "<img alt=\"Student News Daily\" height=\"35\" src=\"https://www.studentnewsdaily.com/wp-content/themes/current-events-articles/assets/img/current-events-globe-icon-medium.png\" width=\"28\"/> Student News Daily\n",
      "      </a>\n"
     ]
    }
   ],
   "source": [
    "print(summary)"
   ]
  },
  {
   "cell_type": "code",
   "execution_count": 11,
   "id": "18b5887a",
   "metadata": {},
   "outputs": [],
   "source": [
    "imag=summary.find('img')"
   ]
  },
  {
   "cell_type": "code",
   "execution_count": 23,
   "id": "a6d441a1",
   "metadata": {},
   "outputs": [
    {
     "name": "stdout",
     "output_type": "stream",
     "text": [
      "<img alt=\"Student News Daily\" height=\"35\" src=\"https://www.studentnewsdaily.com/wp-content/themes/current-events-articles/assets/img/current-events-globe-icon-medium.png\" width=\"28\"/>\n"
     ]
    }
   ],
   "source": [
    "print(imag)"
   ]
  },
  {
   "cell_type": "code",
   "execution_count": 12,
   "id": "d69f309c",
   "metadata": {},
   "outputs": [],
   "source": [
    "cont=soup.findAll('section')"
   ]
  },
  {
   "cell_type": "code",
   "execution_count": 13,
   "id": "498c4a7b",
   "metadata": {},
   "outputs": [
    {
     "name": "stdout",
     "output_type": "stream",
     "text": [
      "2\n"
     ]
    }
   ],
   "source": [
    "# print(cont)\n",
    "print(len(cont))"
   ]
  },
  {
   "cell_type": "code",
   "execution_count": 14,
   "id": "3c5f7182",
   "metadata": {},
   "outputs": [],
   "source": [
    "sumry=cont[1].find(class_='col-md-10 col-lg-10 col-xl-10')"
   ]
  },
  {
   "cell_type": "code",
   "execution_count": 16,
   "id": "1e945daf",
   "metadata": {},
   "outputs": [],
   "source": [
    "# print(sumry)"
   ]
  },
  {
   "cell_type": "code",
   "execution_count": 18,
   "id": "7d5c114b",
   "metadata": {},
   "outputs": [
    {
     "name": "stdout",
     "output_type": "stream",
     "text": [
      "[<h4>September 2021</h4>, <h4>June 2021</h4>, <h4>May 2021</h4>, <h4>April 2021</h4>, <h4>March 2021</h4>, <h4>February 2021</h4>, <h4>January 2021</h4>, <h4>December 2020</h4>, <h4>November 2020</h4>, <h4>October 2020</h4>, <h4>September 2020</h4>, <h4>May 2020</h4>, <h4>April 2020</h4>, <h4>March 2020</h4>, <h4>February 2020</h4>, <h4>January 2020</h4>, <h4>December 2019</h4>, <h4>November 2019</h4>, <h4>October 2019</h4>, <h4>September 2019</h4>, <h4>May 2019</h4>, <h4>April 2019</h4>, <h4>March 2019</h4>, <h4>February 2019</h4>, <h4>January 2019</h4>, <h4>December 2018</h4>, <h4>November 2018</h4>, <h4>October 2018</h4>, <h4>September 2018</h4>, <h4>June 2018</h4>, <h4>May 2018</h4>, <h4>April 2018</h4>, <h4>March 2018</h4>, <h4>February 2018</h4>]\n"
     ]
    }
   ],
   "source": [
    "h4=sumry.findAll('h4')\n",
    "\n",
    "print(h4)"
   ]
  },
  {
   "cell_type": "code",
   "execution_count": 19,
   "id": "674a02f7",
   "metadata": {},
   "outputs": [
    {
     "name": "stdout",
     "output_type": "stream",
     "text": [
      "['September 2021', 'June 2021', 'May 2021', 'April 2021', 'March 2021', 'February 2021', 'January 2021', 'December 2020', 'November 2020', 'October 2020', 'September 2020', 'May 2020', 'April 2020', 'March 2020', 'February 2020', 'January 2020', 'December 2019', 'November 2019', 'October 2019', 'September 2019', 'May 2019', 'April 2019', 'March 2019', 'February 2019', 'January 2019', 'December 2018', 'November 2018', 'October 2018', 'September 2018', 'June 2018', 'May 2018', 'April 2018', 'March 2018', 'February 2018']\n"
     ]
    }
   ],
   "source": [
    "series=[ele.get_text() for ele in h4]\n",
    "print(series)"
   ]
  },
  {
   "cell_type": "code",
   "execution_count": null,
   "id": "2dad0765",
   "metadata": {},
   "outputs": [],
   "source": []
  }
 ],
 "metadata": {
  "kernelspec": {
   "display_name": "Python 3",
   "language": "python",
   "name": "python3"
  },
  "language_info": {
   "codemirror_mode": {
    "name": "ipython",
    "version": 3
   },
   "file_extension": ".py",
   "mimetype": "text/x-python",
   "name": "python",
   "nbconvert_exporter": "python",
   "pygments_lexer": "ipython3",
   "version": "3.8.8"
  }
 },
 "nbformat": 4,
 "nbformat_minor": 5
}
