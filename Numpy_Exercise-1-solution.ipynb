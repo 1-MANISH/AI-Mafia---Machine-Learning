{
 "cells": [
  {
   "cell_type": "markdown",
   "metadata": {},
   "source": [
    "# Numpy Exercise"
   ]
  },
  {
   "cell_type": "markdown",
   "metadata": {},
   "source": [
    "#### 1. Import the numpy package under the name as np  "
   ]
  },
  {
   "cell_type": "code",
   "execution_count": 1,
   "metadata": {},
   "outputs": [],
   "source": [
    "import numpy as np"
   ]
  },
  {
   "cell_type": "markdown",
   "metadata": {},
   "source": [
    "#### 2. Print the numpy version and the configuration "
   ]
  },
  {
   "cell_type": "code",
   "execution_count": 11,
   "metadata": {},
   "outputs": [
    {
     "name": "stdout",
     "output_type": "stream",
     "text": [
      "1.20.1\n",
      "<module 'numpy.__config__' from '/Users/manish/opt/anaconda3/lib/python3.8/site-packages/numpy/__config__.py'>\n"
     ]
    }
   ],
   "source": [
    "print(np.__version__ )\n",
    "print(np.__config__)\n"
   ]
  },
  {
   "cell_type": "markdown",
   "metadata": {},
   "source": [
    "#### 3. Create a null vector of size 10"
   ]
  },
  {
   "cell_type": "code",
   "execution_count": 12,
   "metadata": {},
   "outputs": [
    {
     "name": "stdout",
     "output_type": "stream",
     "text": [
      "Our null vector:\n",
      " [0. 0. 0. 0. 0. 0. 0. 0. 0. 0.]\n"
     ]
    }
   ],
   "source": [
    "# Null vector is with all element are zero\n",
    "n=np.zeros(10)\n",
    "print(\"Our null vector:\\n\",n)"
   ]
  },
  {
   "cell_type": "markdown",
   "metadata": {},
   "source": [
    "#### 4.  How to find the memory size of any array"
   ]
  },
  {
   "cell_type": "code",
   "execution_count": 19,
   "metadata": {},
   "outputs": [
    {
     "name": "stdout",
     "output_type": "stream",
     "text": [
      "Array is :\n",
      " [1 2 3 4 5]\n",
      "Number of element:  5\n",
      "Element size:  8\n",
      "Memory used:  40\n"
     ]
    }
   ],
   "source": [
    "arr=np.array([1,2,3,4,5],dtype=\"int\")\n",
    "\n",
    "print(\"Array is :\\n\",arr)\n",
    "\n",
    "print(\"Number of element: \",arr.size)\n",
    "\n",
    "print(\"Element size: \",array.itemsize)\n",
    "\n",
    "mu=array.size*array.itemsize\n",
    "print(\"Memory used: \",mu)\n"
   ]
  },
  {
   "cell_type": "markdown",
   "metadata": {},
   "source": [
    "#### 5.  How to get the documentation of the numpy add function from the command line? "
   ]
  },
  {
   "cell_type": "code",
   "execution_count": 20,
   "metadata": {},
   "outputs": [],
   "source": [
    "np.add?\n"
   ]
  },
  {
   "cell_type": "markdown",
   "metadata": {},
   "source": [
    "#### 6.  Create a null vector of size 10 but the fifth value which is 1"
   ]
  },
  {
   "cell_type": "code",
   "execution_count": 22,
   "metadata": {},
   "outputs": [
    {
     "name": "stdout",
     "output_type": "stream",
     "text": [
      "a null vector of size 10 but the fifth value which is 1:\n",
      " [0. 0. 0. 0. 1. 0. 0. 0. 0. 0.]\n"
     ]
    }
   ],
   "source": [
    "a=np.zeros(10)\n",
    "a[4]=1\n",
    "print(\"a null vector of size 10 but the fifth value which is 1:\\n\",a)\n"
   ]
  },
  {
   "cell_type": "markdown",
   "metadata": {},
   "source": [
    "#### 7.  Create a vector with values ranging from 10 to 49"
   ]
  },
  {
   "cell_type": "code",
   "execution_count": 26,
   "metadata": {},
   "outputs": [
    {
     "name": "stdout",
     "output_type": "stream",
     "text": [
      "[10 11 12 13 14 15 16 17 18 19 20 21 22 23 24 25 26 27 28 29 30 31 32 33\n",
      " 34 35 36 37 38 39 40 41 42 43 44 45 46 47 48 49]\n"
     ]
    }
   ],
   "source": [
    "q=np.arange(10,50,1)\n",
    "\n",
    "print(q)\n"
   ]
  },
  {
   "cell_type": "markdown",
   "metadata": {},
   "source": [
    "#### 8.  Reverse a vector (first element becomes last)"
   ]
  },
  {
   "cell_type": "code",
   "execution_count": 31,
   "metadata": {},
   "outputs": [
    {
     "name": "stdout",
     "output_type": "stream",
     "text": [
      "Orginal array:\n",
      " [1 2 3 4 5]\n",
      "reverse array:\n",
      " [5 4 3 2 1]\n"
     ]
    }
   ],
   "source": [
    "array=np.array([1,2,3,4,5],dtype='int')\n",
    "\n",
    "print(\"Orginal array:\\n\",array)\n",
    "\n",
    "revarray=array[::-1]\n",
    "\n",
    "print(\"reverse array:\\n\",revarray)"
   ]
  },
  {
   "cell_type": "markdown",
   "metadata": {},
   "source": [
    "#### 9.  Create a 3x3 matrix with values ranging from 0 to 8"
   ]
  },
  {
   "cell_type": "code",
   "execution_count": 40,
   "metadata": {},
   "outputs": [
    {
     "name": "stdout",
     "output_type": "stream",
     "text": [
      "[0 1 2 3 4 5 6 7 8]\n",
      "Ans is:\n",
      " [[0 1 2]\n",
      " [3 4 5]\n",
      " [6 7 8]]\n"
     ]
    }
   ],
   "source": [
    "# first create a 1 d array then we can modify to 3 X 3\n",
    "d_1=np.arange(0,9)\n",
    "print(d_1)\n",
    "\n",
    "ans=d_1.reshape((3,3))\n",
    "\n",
    "print(\"Ans is:\\n\",ans)\n"
   ]
  },
  {
   "cell_type": "markdown",
   "metadata": {},
   "source": [
    "#### 10. Find indices of non-zero elements from [1,2,0,0,4,0]"
   ]
  },
  {
   "cell_type": "code",
   "execution_count": 43,
   "metadata": {},
   "outputs": [
    {
     "name": "stdout",
     "output_type": "stream",
     "text": [
      "Orginal array:\n",
      " [1 2 0 0 4 0]\n",
      "Index of non zero element:\n",
      " [0 1 4]\n"
     ]
    }
   ],
   "source": [
    "arr=np.array([1,2,0,0,4,0])\n",
    "\n",
    "print(\"Orginal array:\\n\",arr)\n",
    "\n",
    "rejult=np.where(arr !=0)[0]\n",
    "\n",
    "print(\"Index of non zero element:\\n\",rejult)"
   ]
  },
  {
   "cell_type": "markdown",
   "metadata": {},
   "source": [
    "#### 11. Create a 3x3 identity matrix"
   ]
  },
  {
   "cell_type": "code",
   "execution_count": 32,
   "metadata": {},
   "outputs": [
    {
     "name": "stdout",
     "output_type": "stream",
     "text": [
      "Indentical matrix:\n",
      " [[1 0 0]\n",
      " [0 1 0]\n",
      " [0 0 1]]\n"
     ]
    }
   ],
   "source": [
    "# Indentical matrix\n",
    "I=np.eye(3,dtype=\"int\")\n",
    "print(\"Indentical matrix:\\n\",I)"
   ]
  },
  {
   "cell_type": "markdown",
   "metadata": {},
   "source": [
    "#### 12. Create a 3x3x3 array with random values"
   ]
  },
  {
   "cell_type": "code",
   "execution_count": 37,
   "metadata": {},
   "outputs": [
    {
     "name": "stdout",
     "output_type": "stream",
     "text": [
      "Array is:\n",
      " [[[0.25773026 0.1328659  0.42553486]\n",
      "  [0.48301377 0.34396571 0.0748673 ]\n",
      "  [0.85266463 0.18987659 0.65109236]]\n",
      "\n",
      " [[0.47400576 0.37727501 0.59386684]\n",
      "  [0.98410725 0.62689721 0.28945411]\n",
      "  [0.71681678 0.44568419 0.80702487]]\n",
      "\n",
      " [[0.40185929 0.22905132 0.26307021]\n",
      "  [0.25759142 0.57787408 0.64979575]\n",
      "  [0.53077488 0.26858037 0.8242103 ]]]\n"
     ]
    }
   ],
   "source": [
    "Rarray=np.random.random((3,3,3))\n",
    "print(\"Array is:\\n\",Rarray)"
   ]
  },
  {
   "cell_type": "markdown",
   "metadata": {},
   "source": [
    "#### 13. Create a 10x10 array with random values and find the minimum and maximum values"
   ]
  },
  {
   "cell_type": "code",
   "execution_count": 36,
   "metadata": {},
   "outputs": [
    {
     "name": "stdout",
     "output_type": "stream",
     "text": [
      "Our array is:\n",
      " [[0.13639203 0.35798054 0.06272499 0.36065687 0.48041977 0.06400255\n",
      "  0.3186058  0.6008941  0.24983597 0.99481187]\n",
      " [0.8836607  0.58688486 0.58063525 0.08495132 0.92839323 0.41164024\n",
      "  0.58486564 0.24566652 0.82820687 0.35081163]\n",
      " [0.84264137 0.76960829 0.71759667 0.32360845 0.22380362 0.41356752\n",
      "  0.50438743 0.62766693 0.08232523 0.32107733]\n",
      " [0.45600729 0.92999998 0.04194578 0.22363285 0.86673805 0.2265313\n",
      "  0.95818256 0.01400219 0.25214766 0.44310775]\n",
      " [0.16710644 0.84434788 0.59394112 0.95000074 0.67903519 0.7705022\n",
      "  0.22527294 0.82269357 0.77617026 0.4863186 ]\n",
      " [0.38076021 0.88517951 0.58478893 0.01790103 0.44072829 0.9495777\n",
      "  0.9988222  0.90375302 0.12899778 0.32668192]\n",
      " [0.9308502  0.28841573 0.86924717 0.1366653  0.76018832 0.97355464\n",
      "  0.44657159 0.64090729 0.5408735  0.10083103]\n",
      " [0.60676607 0.00214719 0.35641381 0.1908332  0.78084246 0.94746652\n",
      "  0.51236657 0.21649429 0.92991007 0.22070043]\n",
      " [0.50261953 0.01551366 0.11007924 0.99222609 0.59314062 0.31957472\n",
      "  0.98365826 0.67834819 0.59667059 0.07891168]\n",
      " [0.46846657 0.92797039 0.22523977 0.71792996 0.08381939 0.83607844\n",
      "  0.31742631 0.28803924 0.3535007  0.9381205 ]]\n",
      "Max:\n",
      " 0.9988221989459427\n",
      "Min:\n",
      " 0.0021471934283026073\n"
     ]
    }
   ],
   "source": [
    "Randarray=np.random.random((10,10))\n",
    "\n",
    "print(\"Our array is:\\n\",Randarray)\n",
    "\n",
    "\n",
    "print(\"Max:\\n\",np.max(Randarray))\n",
    "\n",
    "print(\"Min:\\n\",np.min(Randarray))"
   ]
  },
  {
   "cell_type": "markdown",
   "metadata": {},
   "source": [
    "#### 14. Create a random vector of size 30 and find the mean value"
   ]
  },
  {
   "cell_type": "code",
   "execution_count": 42,
   "metadata": {},
   "outputs": [
    {
     "name": "stdout",
     "output_type": "stream",
     "text": [
      "Array is:\n",
      " [0.04818183 0.03400505 0.29223023 0.36991099 0.8660683  0.6352821\n",
      " 0.09907511 0.62792345 0.35173546 0.61379142 0.6104623  0.31979509\n",
      " 0.56261553 0.56964614 0.65999366 0.80634048 0.12334937 0.34796585\n",
      " 0.71712633 0.32038367 0.94589038 0.92620728 0.75738758 0.17937295\n",
      " 0.35607109 0.61401661 0.5356316  0.22152447 0.05104063 0.36736579]\n",
      "Mean is =  0.4643463578011983\n"
     ]
    }
   ],
   "source": [
    "# Our random vector\n",
    "r=np.random.random(30)\n",
    "\n",
    "print(\"Array is:\\n\",r)\n",
    "\n",
    "m=np.mean(r)\n",
    "\n",
    "print(\"Mean is = \",m)\n"
   ]
  },
  {
   "cell_type": "markdown",
   "metadata": {},
   "source": [
    "#### 15. Create a 2d array with 1 on the border and 0 inside"
   ]
  },
  {
   "cell_type": "code",
   "execution_count": 56,
   "metadata": {},
   "outputs": [
    {
     "name": "stdout",
     "output_type": "stream",
     "text": [
      "Input dimenstion:5 6\n",
      "[[1 1 1 1 1 1]\n",
      " [1 0 0 0 0 1]\n",
      " [1 0 0 0 0 1]\n",
      " [1 0 0 0 0 1]\n",
      " [1 1 1 1 1 1]]\n"
     ]
    }
   ],
   "source": [
    "'''\n",
    "1 1 1 1   1 1 1 1 1 0 0 1 1 0 0 1 1 1 1 1\n",
    "1 0 0 1\n",
    "1 0 0 1\n",
    "1 1 1 1\n",
    "\n",
    "'''\n",
    "l=list(map(int,input(\"Input dimenstion:\").split()))\n",
    "n=l[0]\n",
    "m=l[1]\n",
    "arr=np.full((n,m),1,dtype=\"int\")\n",
    "arr[1:n-1,1:m-1]=0\n",
    "print(arr)"
   ]
  },
  {
   "cell_type": "markdown",
   "metadata": {},
   "source": [
    "#### 16. How to add a border (filled with 0's) around an existing array?"
   ]
  },
  {
   "cell_type": "code",
   "execution_count": 66,
   "metadata": {},
   "outputs": [
    {
     "name": "stdout",
     "output_type": "stream",
     "text": [
      "Input dimenstion:5 6\n",
      "Your array is:\n",
      " [[0 0 0 0 0 0]\n",
      " [0 0 0 0 0 0]\n",
      " [0 0 0 0 0 0]\n",
      " [0 0 0 0 0 0]\n",
      " [0 0 0 0 0 0]]\n",
      "Your array with border is:\n",
      " [[1 1 1 1 1 1]\n",
      " [1 0 0 0 0 1]\n",
      " [1 0 0 0 0 1]\n",
      " [1 0 0 0 0 1]\n",
      " [1 1 1 1 1 1]]\n"
     ]
    }
   ],
   "source": [
    "#let array is\n",
    "\n",
    "l=list(map(int,input(\"Input dimenstion:\").split()))\n",
    "n=l[0]\n",
    "m=l[1]\n",
    "a=np.zeros((n,m),dtype=\"int\")\n",
    "print(\"Your array is:\\n\",a)\n",
    "a[0:n,0:1]=1\n",
    "a[0:1,0:m]=1\n",
    "a[0:n,m-1]=1\n",
    "a[n-1,0:m]=1\n",
    "print(\"Your array with border is:\\n\",a)\n",
    "\n",
    "\n"
   ]
  },
  {
   "cell_type": "markdown",
   "metadata": {},
   "source": [
    "#### 17. What is the result of the following expression?"
   ]
  },
  {
   "cell_type": "markdown",
   "metadata": {},
   "source": [
    "```python\n",
    "0 * np.nan\n",
    "np.nan == np.nan\n",
    "np.inf > np.nan\n",
    "np.nan - np.nan\n",
    "np.nan in set([np.nan])\n",
    "0.3 == 3 * 0.1\n",
    "```"
   ]
  },
  {
   "cell_type": "code",
   "execution_count": 89,
   "metadata": {},
   "outputs": [
    {
     "data": {
      "text/plain": [
       "False"
      ]
     },
     "execution_count": 89,
     "metadata": {},
     "output_type": "execute_result"
    }
   ],
   "source": [
    "#nan\n",
    "#false\n",
    "#false\n",
    "# nan\n",
    "# true\n",
    "#false\n",
    "\n"
   ]
  },
  {
   "cell_type": "markdown",
   "metadata": {},
   "source": [
    "#### 18. Create a 5x5 matrix with values 1,2,3,4 just below the diagonal"
   ]
  },
  {
   "cell_type": "code",
   "execution_count": 73,
   "metadata": {},
   "outputs": [
    {
     "name": "stdout",
     "output_type": "stream",
     "text": [
      "[[0 0 0 0 0]\n",
      " [1 0 0 0 0]\n",
      " [0 2 0 0 0]\n",
      " [0 0 3 0 0]\n",
      " [0 0 0 4 0]]\n"
     ]
    }
   ],
   "source": [
    "arr = np.diag(1+np.arange(4),k=-1)\n",
    "print (arr)"
   ]
  },
  {
   "cell_type": "markdown",
   "metadata": {},
   "source": [
    "#### 19. Create a 8x8 matrix and fill it with a checkerboard pattern"
   ]
  },
  {
   "cell_type": "code",
   "execution_count": 77,
   "metadata": {},
   "outputs": [
    {
     "name": "stdout",
     "output_type": "stream",
     "text": [
      "[[1 0 1 0 1 0 1 0]\n",
      " [0 1 0 1 0 1 0 1]\n",
      " [1 0 1 0 1 0 1 0]\n",
      " [0 1 0 1 0 1 0 1]\n",
      " [1 0 1 0 1 0 1 0]\n",
      " [0 1 0 1 0 1 0 1]\n",
      " [1 0 1 0 1 0 1 0]\n",
      " [0 1 0 1 0 1 0 1]]\n"
     ]
    }
   ],
   "source": [
    "arr=np.zeros((8,8),dtype=\"int\")\n",
    "\n",
    "arr[0::2,0::2]=1\n",
    "arr[1::2,1::2]=1\n",
    "print(arr)"
   ]
  },
  {
   "cell_type": "markdown",
   "metadata": {},
   "source": [
    "#### 20. Consider a (6,7,8) shape array, what is the index (x,y,z) of the 100th element?"
   ]
  },
  {
   "cell_type": "code",
   "execution_count": 81,
   "metadata": {},
   "outputs": [
    {
     "name": "stdout",
     "output_type": "stream",
     "text": [
      "(1, 5, 4)\n"
     ]
    }
   ],
   "source": [
    "a=np.random.random((6,7,8))\n",
    "\n",
    "print (np.unravel_index(100, (6,7,8)))"
   ]
  },
  {
   "cell_type": "code",
   "execution_count": null,
   "metadata": {},
   "outputs": [],
   "source": []
  }
 ],
 "metadata": {
  "kernelspec": {
   "display_name": "Python 3",
   "language": "python",
   "name": "python3"
  },
  "language_info": {
   "codemirror_mode": {
    "name": "ipython",
    "version": 3
   },
   "file_extension": ".py",
   "mimetype": "text/x-python",
   "name": "python",
   "nbconvert_exporter": "python",
   "pygments_lexer": "ipython3",
   "version": "3.8.8"
  }
 },
 "nbformat": 4,
 "nbformat_minor": 1
}
