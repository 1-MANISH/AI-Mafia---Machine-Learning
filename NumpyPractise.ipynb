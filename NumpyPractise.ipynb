{
 "cells": [
  {
   "cell_type": "markdown",
   "id": "26f21759",
   "metadata": {},
   "source": [
    "# Numpy practise session"
   ]
  },
  {
   "cell_type": "code",
   "execution_count": 1,
   "id": "5d325ffb",
   "metadata": {},
   "outputs": [],
   "source": [
    "import numpy as np\n"
   ]
  },
  {
   "cell_type": "code",
   "execution_count": null,
   "id": "5764c6b7",
   "metadata": {},
   "outputs": [],
   "source": [
    "arr=np.array([[1,2,3],[4,5,6]])\n",
    "print(arr)\n",
    "print(type(arr))# type of entity\n",
    "print(arr.dtype)# datatype of numpy array element\n",
    "print(arr.shape)# row & col how many\n",
    "print(arr.size)# number of elements\n",
    "print(arr.ndim)# dimenstion\n",
    "\n",
    "# 1D array\n",
    "a=np.array([1,2,3])\n",
    "print(a.shape)\n",
    "print(a.ndim)\n",
    "\n",
    "\n",
    "\n"
   ]
  },
  {
   "cell_type": "markdown",
   "id": "9a154ec5",
   "metadata": {},
   "source": [
    "#  Creating an numpy array"
   ]
  },
  {
   "cell_type": "code",
   "execution_count": 49,
   "id": "54827515",
   "metadata": {},
   "outputs": [
    {
     "name": "stdout",
     "output_type": "stream",
     "text": [
      "Array from list:\n",
      " [[1. 2. 3.]\n",
      " [4. 5. 6.]\n",
      " [7. 8. 9.]]\n",
      "Array from tuple:\n",
      " [1 2 3]\n",
      "Array from tuple:\n",
      " [[1 2 3]\n",
      " [4 5 6]]\n",
      "Zero array is:\n",
      " [[0 0 0 0]\n",
      " [0 0 0 0]\n",
      " [0 0 0 0]]\n",
      "Ones array is:\n",
      " [[1 1 1 1]\n",
      " [1 1 1 1]\n",
      " [1 1 1 1]]\n",
      "Indentical matrix:\n",
      " [[1 0 0 0]\n",
      " [0 1 0 0]\n",
      " [0 0 1 0]\n",
      " [0 0 0 1]]\n",
      "Constant array:\n",
      " [[1 1 1 1]\n",
      " [1 1 1 1]\n",
      " [1 1 1 1]]\n",
      "Constant complex array:\n",
      " [[2.+3.j 2.+3.j 2.+3.j 2.+3.j]\n",
      " [2.+3.j 2.+3.j 2.+3.j 2.+3.j]\n",
      " [2.+3.j 2.+3.j 2.+3.j 2.+3.j]]\n",
      "1 D random array with size= 5:\n",
      " [0.49249222 0.23457384 0.75575661 0.31295608 0.71457094]\n",
      "2 D random array :\n",
      " [[0.53920024 0.1458204  0.77069821 0.40065295]\n",
      " [0.36009844 0.88812968 0.19861645 0.50394729]]\n",
      "1 D array with 0 to 30 with inc=5:\n",
      " [ 0  5 10 15 20 25 30]\n",
      "creating a sequence of 10 values in range 0 to 5:\n",
      " [0 0 1 2 2 3 4 5]\n",
      "Original:\n",
      " [[1 2 3 4]\n",
      " [5 4 3 2]\n",
      " [1 2 9 8]]\n",
      "Reshaped array:\n",
      " [[[1 2 3 4 5 4]]\n",
      "\n",
      " [[3 2 1 2 9 8]]]\n",
      "Original array:\n",
      " [[1 2 3]\n",
      " [4 5 6]]\n",
      "Flattern array:\n",
      " [1 2 3 4 5 6]\n"
     ]
    }
   ],
   "source": [
    "# from list\n",
    "l=np.array([[1,2,3],[4,5,6],[7,8,9]],dtype=\"float\")\n",
    "print(\"Array from list:\\n\",l)\n",
    "\n",
    "# from tuple\n",
    "t=np.array((1,2,3))\n",
    "print(\"Array from tuple:\\n\",t)\n",
    "\n",
    "t2=np.array(((1,2,3),(4,5,6)),dtype=\"int\")\n",
    "print(\"Array from tuple:\\n\",t2)\n",
    "\n",
    "\n",
    "# Creating n X m array with some specific property\n",
    "\n",
    "# 3 x 4 array with all zeros\n",
    "z=np.zeros((3,4),dtype=\"int\")\n",
    "print(\"Zero array is:\\n\",z)\n",
    "\n",
    "#3 x 4 array with all  ones\n",
    "p=np.ones((3,4),dtype=\"int\")\n",
    "print(\"Ones array is:\\n\",p)\n",
    "\n",
    "# Indentical matrix(only square matric can be fromed)\n",
    "I=np.eye(4,dtype=\"int\")\n",
    "print(\"Indentical matrix:\\n\",I)\n",
    "\n",
    "# constant array\n",
    "c=np.full((3,4),1,dtype=\"int\")\n",
    "print(\"Constant array:\\n\",c)\n",
    "\n",
    "com=np.full((3,4),2+3j,dtype=\"complex\")\n",
    "print(\"Constant complex array:\\n\",com)\n",
    "\n",
    "# creaating a random array\n",
    "\n",
    "r1=np.random.random(5)\n",
    "print(\"1 D random array with size= 5:\\n\",r1)\n",
    "\n",
    "r2=np.random.random((2,4))\n",
    "print(\"2 D random array :\\n\",r2)\n",
    "\n",
    "# creating sequence of integers\n",
    "\n",
    "# 1 D array with 0 to 30 with inc=5\n",
    "q=np.arange(0,31,5)\n",
    "print(\"1 D array with 0 to 30 with inc=5:\\n\",q)\n",
    "\n",
    "#creating a sequence of 10 values in range 0 to 5\n",
    "k=np.linspace(0,5,8,dtype=\"int\")\n",
    "print(\"creating a sequence of 10 values in range 0 to 5:\\n\",k)\n",
    "\n",
    "\n",
    "# reshape array\n",
    "arr=np.array([[1,2,3,4],[5,4,3,2],[1,2,9,8]])\n",
    "newarr=arr.reshape(2,1,6)\n",
    "\n",
    "print(\"Original:\\n\",arr)\n",
    "print(\"Reshaped array:\\n\",newarr)\n",
    "\n",
    "# flattern array\n",
    "x=np.array([[1,2,3],[4,5,6]])\n",
    "print(\"Original array:\\n\",x)\n",
    "\n",
    "f=x.flatten()\n",
    "print(\"Flattern array:\\n\",f)\n",
    "\n"
   ]
  },
  {
   "cell_type": "markdown",
   "id": "f80ea827",
   "metadata": {},
   "source": [
    "# Array indexing and Slicing"
   ]
  },
  {
   "cell_type": "code",
   "execution_count": 50,
   "id": "df89e149",
   "metadata": {},
   "outputs": [
    {
     "name": "stdout",
     "output_type": "stream",
     "text": [
      "Array:\n",
      " [[1 2 3 4]\n",
      " [4 5 6 7]\n",
      " [3 6 4 1]\n",
      " [4 3 2 1]]\n"
     ]
    }
   ],
   "source": [
    "ar=np.array([[1,2,3,4],[4,5,6,7],[3,6,4,1],[4,3,2,1]],dtype=\"int\")\n",
    "print(\"Array:\\n\",ar)"
   ]
  },
  {
   "cell_type": "code",
   "execution_count": 53,
   "id": "1e0fe166",
   "metadata": {},
   "outputs": [
    {
     "name": "stdout",
     "output_type": "stream",
     "text": [
      "Subarray:\n",
      " [[5 6]\n",
      " [6 4]]\n",
      "Subarray with dignal element:\n",
      " [1 5 4 1]\n"
     ]
    }
   ],
   "source": [
    "'''\n",
    "[\n",
    "    [1 2 3 4]\n",
    "    [4 5 6 7]\n",
    "    [3 6 4 1]\n",
    "    [4 3 2 1]\n",
    "]\n",
    "\n",
    "we want :\n",
    "  5 6\n",
    "  6 4\n",
    "  \n",
    "  ar=[row             ,   col          ]\n",
    "  ar=[start:end+1:stpe,start:end+1:step]\n",
    "'''\n",
    "subarray=ar[1:3,1:3]\n",
    "print(\"Subarray:\\n\",subarray)\n",
    "\n",
    "sub2=ar[[0,1,2,3],[0,1,2,3]]\n",
    "print(\"Subarray with dignal element:\\n\",sub2)"
   ]
  },
  {
   "cell_type": "code",
   "execution_count": 55,
   "id": "4f1f205a",
   "metadata": {},
   "outputs": [
    {
     "name": "stdout",
     "output_type": "stream",
     "text": [
      "Boolean array:\n",
      " [4 4 5 7]\n"
     ]
    }
   ],
   "source": [
    "#Boolean array indexing\n",
    "\n",
    "array=np.array([[1,2,3,4],[4,3,3,1],[3,5,7,1]])\n",
    "\n",
    "cond=array>3\n",
    "\n",
    "k=array[cond]\n",
    "\n",
    "print(\"Boolean array:\\n\",k)"
   ]
  },
  {
   "cell_type": "markdown",
   "id": "04051f4a",
   "metadata": {},
   "source": [
    "# Basic operation\n",
    "\n",
    "- +=\n",
    "- -=\n",
    "- *=\n",
    "- +\n",
    "- -\n",
    "- *\n",
    "- x.dot(y)"
   ]
  },
  {
   "cell_type": "code",
   "execution_count": 69,
   "id": "ba3a0e3d",
   "metadata": {},
   "outputs": [
    {
     "name": "stdout",
     "output_type": "stream",
     "text": [
      "Orginal:\n",
      " [1 2 5 3]\n",
      "Adding  1 to all element:\n",
      " [2 3 6 4]\n",
      "Subtract 1 to each element:\n",
      " [0 1 4 2]\n",
      "Multyply with 10:\n",
      " [10 20 50 30]\n",
      "Squaring each element:\n",
      " [ 1  4 25  9]\n",
      "Modifying array:\n",
      " [3 4 7 5]\n",
      "Orignal:\n",
      " [[1 2 3]\n",
      " [4 5 6]\n",
      " [7 8 9]]\n",
      "Transpose:\n",
      " [[1 4 7]\n",
      " [2 5 8]\n",
      " [3 6 9]]\n",
      "Orignal:\n",
      " [[1 2 3]\n",
      " [4 5 6]\n",
      " [7 8 9]]\n",
      "Max:\n",
      " 9\n",
      "Min:\n",
      " 1\n",
      "Row-wise max:\n",
      " [3 6 9]\n",
      "Row-wise min:\n",
      " [1 4 7]\n",
      "Column-wise max:\n",
      " [7 8 9]\n",
      "Column-wise min:\n",
      " [1 2 3]\n",
      "Sum of element:\n",
      " 45\n",
      "Cumsum:\n",
      " [ 1  3  6 10 15 21 28 36 45]\n",
      "Cumsum along row:\n",
      " [[ 1  3  6]\n",
      " [ 4  9 15]\n",
      " [ 7 15 24]]\n",
      "Cumsum along column\n",
      " [[ 1  2  3]\n",
      " [ 5  7  9]\n",
      " [12 15 18]]\n"
     ]
    }
   ],
   "source": [
    "ar=np.array([1,2,5,3])\n",
    "\n",
    "print(\"Orginal:\\n\",ar)\n",
    "\n",
    "print(\"Adding  1 to all element:\\n\",ar+1)\n",
    "\n",
    "print(\"Subtract 1 to each element:\\n\",ar-1)\n",
    "\n",
    "print(\"Multyply with 10:\\n\",ar*10)\n",
    "\n",
    "print(\"Squaring each element:\\n\",ar**2)\n",
    "\n",
    "\n",
    "ar+=2\n",
    "\n",
    "print(\"Modifying array:\\n\",ar)\n",
    "\n",
    "# Transpose of array\n",
    "arr=np.array([[1,2,3],[4,5,6],[7,8,9]])\n",
    "print(\"Orignal:\\n\",arr)\n",
    "print(\"Transpose:\\n\",arr.T)\n",
    "\n",
    "# some fxn\n",
    "print(\"Orignal:\\n\",arr)\n",
    "print(\"Max:\\n\",arr.max())\n",
    "print(\"Min:\\n\",arr.min())\n",
    "\n",
    "print(\"Row-wise max:\\n\",arr.max(axis=1))\n",
    "print(\"Row-wise min:\\n\",arr.min(axis=1))\n",
    "\n",
    "print(\"Column-wise max:\\n\",arr.max(axis=0))\n",
    "print(\"Column-wise min:\\n\",arr.min(axis=0))\n",
    "\n",
    "print(\"Sum of element:\\n\",arr.sum())\n",
    "\n",
    "print(\"Cumsum:\\n\",arr.cumsum())\n",
    "print(\"Cumsum along row:\\n\",arr.cumsum(axis=1))\n",
    "print(\"Cumsum along column\\n\",arr.cumsum(axis=0))\n",
    "\n"
   ]
  },
  {
   "cell_type": "code",
   "execution_count": 70,
   "id": "45dcda52",
   "metadata": {},
   "outputs": [
    {
     "name": "stdout",
     "output_type": "stream",
     "text": [
      "Array a :\n",
      " [[1 2]\n",
      " [3 4]]\n",
      "Array b :\n",
      " [[4 3]\n",
      " [2 1]]\n",
      "Addition of a & b :\n",
      " [[5 5]\n",
      " [5 5]]\n",
      "Subtraction of a & b :\n",
      " [[-3 -1]\n",
      " [ 1  3]]\n",
      "Multipliction of a & b(element wise) :\n",
      " [[4 6]\n",
      " [6 4]]\n",
      "Dot product of a & b :\n",
      " [[ 8  5]\n",
      " [20 13]]\n"
     ]
    }
   ],
   "source": [
    "a=np.array([[1,2],[3,4]])\n",
    "b=np.array([[4,3],[2,1]])\n",
    "\n",
    "print(\"Array a :\\n\",a)\n",
    "print(\"Array b :\\n\",b)\n",
    "print(\"Addition of a & b :\\n\",a+b)\n",
    "print(\"Subtraction of a & b :\\n\",a-b)\n",
    "print(\"Multipliction of a & b(element wise) :\\n\",a*b)\n",
    "print(\"Dot product of a & b :\\n\",a.dot(b))"
   ]
  },
  {
   "cell_type": "markdown",
   "id": "96b99078",
   "metadata": {},
   "source": [
    "# Universal fxn"
   ]
  },
  {
   "cell_type": "code",
   "execution_count": 75,
   "id": "f5352ff8",
   "metadata": {},
   "outputs": [
    {
     "name": "stdout",
     "output_type": "stream",
     "text": [
      "Sine value array:\n",
      " [0.         1.57079633 3.14159265]\n",
      "Sine value array:\n",
      " [ 0.84147098  0.90929743  0.14112001 -0.7568025 ]\n",
      "Exponent array:\n",
      " [ 2.71828183  7.3890561  20.08553692 54.59815003]\n",
      "Squareroot:\n",
      " [1.         1.41421356 1.73205081 2.        ]\n"
     ]
    }
   ],
   "source": [
    "a=np.array([0,np.pi/2,np.pi])\n",
    "print(\"Sine value array:\\n\",a)\n",
    "b=[1,2,3,4]\n",
    "x=np.sin(b)\n",
    "print(\"Sine value array:\\n\",x)\n",
    "\n",
    "c=np.array([1,2,3,4])\n",
    "\n",
    "print(\"Exponent array:\\n\",np.exp(c))\n",
    "\n",
    "print(\"Squareroot:\\n\",np.sqrt(c))"
   ]
  },
  {
   "cell_type": "code",
   "execution_count": 82,
   "id": "7a050362",
   "metadata": {},
   "outputs": [
    {
     "name": "stdout",
     "output_type": "stream",
     "text": [
      "Original:\n",
      " [6 3 6 8 3 2 5]\n",
      "Sorted array:\n",
      " [2 3 3 5 6 6 8]\n",
      "Original:\n",
      " [[4 3 5 1]\n",
      " [4 8 3 9]\n",
      " [6 3 8 9]]\n",
      "Sorted:\n",
      " [[1 3 4 5]\n",
      " [3 4 8 9]\n",
      " [3 6 8 9]]\n",
      "Sorted:\n",
      " [1 3 3 3 4 4 5 6 8 8 9 9]\n",
      "Row wise Sorted:\n",
      " [[1 3 4 5]\n",
      " [3 4 8 9]\n",
      " [3 6 8 9]]\n",
      "Column wise Sorted:\n",
      " [[4 3 3 1]\n",
      " [4 3 5 9]\n",
      " [6 8 8 9]]\n",
      "Merge sort:\n",
      " [ 3  4  5  6  8  9 12 45]\n"
     ]
    }
   ],
   "source": [
    "# Sorting\n",
    "\n",
    "a=np.array([6,3,6,8,3,2,5])\n",
    "\n",
    "print(\"Original:\\n\",a)\n",
    "\n",
    "print(\"Sorted array:\\n\",np.sort(a))\n",
    "\n",
    "b=np.array([[4,3,5,1],[4,8,3,9],[6,3,8,9]])\n",
    "\n",
    "print(\"Original:\\n\",b)\n",
    "\n",
    "print(\"Sorted:\\n\",np.sort(b))\n",
    "print(\"Sorted:\\n\",np.sort(b,axis=None))\n",
    "print(\"Row wise Sorted:\\n\",np.sort(b,axis=1))\n",
    "print(\"Column wise Sorted:\\n\",np.sort(b,axis=0))\n",
    "\n",
    "x=np.array([6,8,4,9,12,45,5,3])\n",
    "\n",
    "print(\"Merge sort:\\n\",np.sort(x,kind=\"mergesort\"))"
   ]
  },
  {
   "cell_type": "markdown",
   "id": "ce7567e6",
   "metadata": {},
   "source": [
    "# Stacking & spliting\n",
    "\n",
    "- np.vstack(): along verical axis\n",
    "- np.hstack(): along horizontal axis\n",
    "- np.column_stack(): 1 d array as 2d array\n",
    "- np.concatenate(): along specific array"
   ]
  },
  {
   "cell_type": "code",
   "execution_count": 89,
   "id": "05d1dd71",
   "metadata": {},
   "outputs": [
    {
     "name": "stdout",
     "output_type": "stream",
     "text": [
      "Array a:\n",
      " [[1 2]\n",
      " [3 4]]\n",
      "Array b:\n",
      " [[4 3]\n",
      " [2 1]]\n",
      "Vertical stacking:\n",
      " [[1 2]\n",
      " [3 4]\n",
      " [4 3]\n",
      " [2 1]]\n",
      "Horizontal stacking:\n",
      " [[1 2 4 3]\n",
      " [3 4 2 1]]\n",
      "Column stacking:\n",
      " [[1 2 5]\n",
      " [3 4 6]]\n",
      "Conctainate to 2nd axis:\n",
      " [[1 2 4 3]\n",
      " [3 4 2 1]]\n"
     ]
    }
   ],
   "source": [
    "a=np.array([[1,2],[3,4]])\n",
    "b=np.array([[4,3],[2,1]])\n",
    "\n",
    "print(\"Array a:\\n\",a)\n",
    "\n",
    "print(\"Array b:\\n\",b)\n",
    "\n",
    "print(\"Vertical stacking:\\n\",np.vstack((a,b)))\n",
    "\n",
    "print(\"Horizontal stacking:\\n\",np.hstack((a,b)))\n",
    "\n",
    "c=[5,6]\n",
    "\n",
    "print(\"Column stacking:\\n\",np.column_stack((a,c)))\n",
    "\n",
    "print(\"Conctainate to 2nd axis:\\n\",np.concatenate((a,b),1))"
   ]
  },
  {
   "cell_type": "markdown",
   "id": "fc1e0293",
   "metadata": {},
   "source": [
    "# Spiliting\n",
    "- np.hsplit\n",
    "- np.vsplit\n",
    "- np.array_split\n"
   ]
  },
  {
   "cell_type": "code",
   "execution_count": 90,
   "id": "a0ddfffb",
   "metadata": {},
   "outputs": [
    {
     "name": "stdout",
     "output_type": "stream",
     "text": [
      "Horizontal split axis into 2 parts :\n",
      " [array([[1, 3, 5],\n",
      "       [2, 4, 6]]), array([[ 7,  9, 11],\n",
      "       [ 8, 12, 14]])]\n",
      "vertical split axis into 2 parts :\n",
      " [array([[ 1,  3,  5,  7,  9, 11]]), array([[ 2,  4,  6,  8, 12, 14]])]\n"
     ]
    }
   ],
   "source": [
    "a=np.array([[1,3,5,7,9,11],[2,4,6,8,12,14]])\n",
    "\n",
    "print(\"Horizontal split axis into 2 parts :\\n\",np.hsplit(a,2))\n",
    "\n",
    "print(\"vertical split axis into 2 parts :\\n\",np.vsplit(a,2))"
   ]
  },
  {
   "cell_type": "markdown",
   "id": "4d4c94fb",
   "metadata": {},
   "source": [
    "# Some more Numpy Statstical fxn\n",
    "- min,max\n",
    "- mean\n",
    "- median\n",
    "- average\n",
    "- variance\n",
    "- Sd\n"
   ]
  },
  {
   "cell_type": "code",
   "execution_count": 98,
   "id": "26f881de",
   "metadata": {},
   "outputs": [
    {
     "name": "stdout",
     "output_type": "stream",
     "text": [
      "Array:\n",
      " [1 2 3 4 5 6 7 8 9]\n",
      "5.0\n",
      "5.0\n",
      "2.581988897471611\n"
     ]
    }
   ],
   "source": [
    "a=np.array([1,2,3,4,5,6,7,8,9])\n",
    "\n",
    "print(\"Array:\\n\",a)\n",
    "\n",
    "print(np.mean(a))\n",
    "\n",
    "print(np.median(a))\n",
    "\n",
    "print(np.std(a))"
   ]
  },
  {
   "cell_type": "markdown",
   "id": "0e9cf863",
   "metadata": {},
   "source": [
    "# Numpy random module\n",
    "- rand: random value in given shape\n",
    "- randn: rturn sample from standered normal distribution\n",
    "- randint: return random int low to high\n",
    "- random: retunn random float value open interval(0.0,1.0)\n",
    "- CHOICE: GERATES A random sample from 1 d array\n",
    "- shuffle: shuffle the content of sequence\n",
    "\n"
   ]
  },
  {
   "cell_type": "code",
   "execution_count": 135,
   "id": "f521708b",
   "metadata": {},
   "outputs": [
    {
     "name": "stdout",
     "output_type": "stream",
     "text": [
      "0.6951275374008146\n",
      "2.194509808277586\n",
      "3\n",
      "1\n",
      "[2, 4, 1, 5, 3, 3]\n",
      "[1, 2, 3, 3, 4, 5]\n"
     ]
    }
   ],
   "source": [
    "from numpy import random\n",
    "\n",
    "a=random.rand()\n",
    "print(a)\n",
    "\n",
    "b=random.randn()\n",
    "print(b)\n",
    "\n",
    "c=random.randint(0,5)\n",
    "print(c)\n",
    "\n",
    "arr=[1,2,3,4,5,6]\n",
    "\n",
    "choice=random.choice(arr)\n",
    "print(choice)\n",
    "\n",
    "\n",
    "f=[1,2,3,3,4,5]\n",
    "random.shuffle(f)\n",
    "print(f)\n",
    "\n",
    "f=[1,2,3,3,4,5]\n",
    "random.permutation(f)\n",
    "print(f)"
   ]
  },
  {
   "cell_type": "code",
   "execution_count": null,
   "id": "97fa4281",
   "metadata": {},
   "outputs": [],
   "source": []
  },
  {
   "cell_type": "code",
   "execution_count": null,
   "id": "67b26552",
   "metadata": {},
   "outputs": [],
   "source": []
  }
 ],
 "metadata": {
  "kernelspec": {
   "display_name": "Python 3",
   "language": "python",
   "name": "python3"
  },
  "language_info": {
   "codemirror_mode": {
    "name": "ipython",
    "version": 3
   },
   "file_extension": ".py",
   "mimetype": "text/x-python",
   "name": "python",
   "nbconvert_exporter": "python",
   "pygments_lexer": "ipython3",
   "version": "3.8.8"
  }
 },
 "nbformat": 4,
 "nbformat_minor": 5
}
