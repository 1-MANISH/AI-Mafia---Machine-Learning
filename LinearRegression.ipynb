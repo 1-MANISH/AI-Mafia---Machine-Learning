{
 "cells": [
  {
   "cell_type": "markdown",
   "id": "b791722a",
   "metadata": {},
   "source": [
    "# Linear regression"
   ]
  },
  {
   "cell_type": "code",
   "execution_count": 1,
   "id": "34b71977",
   "metadata": {},
   "outputs": [],
   "source": [
    "import numpy as np\n",
    "import pandas as pd\n",
    "import matplotlib.pyplot as plt"
   ]
  },
  {
   "cell_type": "code",
   "execution_count": 2,
   "id": "92f01721",
   "metadata": {},
   "outputs": [],
   "source": [
    "# get the training datas or array of data"
   ]
  },
  {
   "cell_type": "code",
   "execution_count": 3,
   "id": "a261d850",
   "metadata": {},
   "outputs": [
    {
     "name": "stdout",
     "output_type": "stream",
     "text": [
      "(99,)\n",
      "(99,)\n"
     ]
    }
   ],
   "source": [
    "# read files for x and y values \n",
    "dfx=pd.read_csv('linearX.csv')\n",
    "dfy=pd.read_csv('lineary.csv')\n",
    "\n",
    "dfx=dfx.values # 2d list of  x data \n",
    "dfy=dfy.values # 2d list of y data\n",
    "\n",
    "x=dfx.reshape((-1,)) # reshape 2d array to 1d\n",
    "y=dfy.reshape((-1,)) # reshape 2d array to 1d\n",
    "\n",
    "print(x.shape)\n",
    "print(y.shape)\n"
   ]
  },
  {
   "cell_type": "code",
   "execution_count": null,
   "id": "e5a329fa",
   "metadata": {},
   "outputs": [],
   "source": []
  },
  {
   "cell_type": "code",
   "execution_count": null,
   "id": "8ea6a54e",
   "metadata": {},
   "outputs": [],
   "source": []
  },
  {
   "cell_type": "markdown",
   "id": "77dd7c28",
   "metadata": {},
   "source": [
    "# Data Prepocessing and visualization"
   ]
  },
  {
   "cell_type": "code",
   "execution_count": 4,
   "id": "2d82858d",
   "metadata": {},
   "outputs": [
    {
     "data": {
      "image/png": "[encoded data removed]",
      "text/plain": [
       "<Figure size 432x288 with 1 Axes>"
      ]
     },
     "metadata": {
      "needs_background": "light"
     },
     "output_type": "display_data"
    }
   ],
   "source": [
    "plt.title(\"Data points\")\n",
    "plt.scatter(x,y,color=\"black\")\n",
    "plt.show()"
   ]
  },
  {
   "cell_type": "code",
   "execution_count": 5,
   "id": "2f04a220",
   "metadata": {},
   "outputs": [
    {
     "data": {
      "image/png": "[encoded data removed]",
      "text/plain": [
       "<Figure size 432x288 with 1 Axes>"
      ]
     },
     "metadata": {
      "needs_background": "light"
     },
     "output_type": "display_data"
    }
   ],
   "source": [
    "# Do normalization towards origin\n",
    "\n",
    "x=(x-x.mean())/x.std()\n",
    "y=y\n",
    "plt.scatter(x,y,color=\"black\")\n",
    "plt.show()"
   ]
  },
  {
   "cell_type": "code",
   "execution_count": null,
   "id": "b3183487",
   "metadata": {},
   "outputs": [],
   "source": []
  },
  {
   "cell_type": "markdown",
   "id": "d129c455",
   "metadata": {},
   "source": [
    "# Gradient descent algorithm\n",
    "\n",
    "- Start with a random theta\n",
    "- repeat untill converge\n",
    "    - Update theta accordingly to the rule"
   ]
  },
  {
   "cell_type": "code",
   "execution_count": 6,
   "id": "236c0d51",
   "metadata": {},
   "outputs": [],
   "source": [
    "# h(x)=m*x+c\n",
    "# h(theta)=(thete**T)*x\n",
    "'''\n",
    "theta=[\n",
    "        m\n",
    "        c \n",
    "      ] 2 X1\n",
    "\n",
    "x=[\n",
    "    x\n",
    "    1\n",
    "  ]2 X 1\n",
    "  \n",
    "'''\n",
    "\n",
    "\n",
    "def hypothesis(x,theta):\n",
    "    return theta[0]+theta[1]*x\n"
   ]
  },
  {
   "cell_type": "code",
   "execution_count": 7,
   "id": "917d63b2",
   "metadata": {},
   "outputs": [],
   "source": [
    "# print(x.shape[0])\n",
    "# print(x.size)"
   ]
  },
  {
   "cell_type": "code",
   "execution_count": 8,
   "id": "505e37a1",
   "metadata": {},
   "outputs": [],
   "source": [
    "'''\n",
    "Error=sum(h(x)-y)**2\n",
    "'''\n",
    "def Error(x,y,theta):\n",
    "    \n",
    "    error=0\n",
    "    for i in range(x.shape[0]):\n",
    "        hx=hypothesis(x[i],theta)\n",
    "        error+=(hx-y[i])**2\n",
    "    return error  \n"
   ]
  },
  {
   "cell_type": "code",
   "execution_count": 22,
   "id": "05540882",
   "metadata": {},
   "outputs": [
    {
     "name": "stdout",
     "output_type": "stream",
     "text": [
      "[0 0]\n"
     ]
    }
   ],
   "source": [
    "# print(np.zeros((2,),dtype=\"int\"))"
   ]
  },
  {
   "cell_type": "code",
   "execution_count": 10,
   "id": "3b6b3ed3",
   "metadata": {},
   "outputs": [],
   "source": [
    "# finding gradient\n",
    "def gradient(x,y,theta):\n",
    "    \n",
    "    grad=np.zeros((2,))\n",
    "             \n",
    "    for i in range(x.shape[0]):\n",
    "        hx=hypothesis(x[i],theta)\n",
    "        grad[0]+=(hx-y[i])\n",
    "        grad[1]+=(hx-y[i])*x[i]\n",
    "        \n",
    "    return grad\n"
   ]
  },
  {
   "cell_type": "code",
   "execution_count": 11,
   "id": "b6053504",
   "metadata": {},
   "outputs": [],
   "source": [
    "# print(np.array([-2.0,0.0]))"
   ]
  },
  {
   "cell_type": "code",
   "execution_count": 12,
   "id": "c0a9b508",
   "metadata": {},
   "outputs": [],
   "source": [
    "'''\n",
    "theta=theta-N*slope\n",
    "'''\n",
    "\n",
    "def gradientDescent(x,y,learning_rate=0.001):\n",
    "    \n",
    "    # start with rando theta\n",
    "    theta=np.array([-2.0,0.0])\n",
    "    \n",
    "    max_iteration=100\n",
    "    itr=0\n",
    "    error_list=[]\n",
    "    theta_list=[]\n",
    "    while ( itr<=max_iteration):\n",
    "        grad=gradient(x,y,theta)\n",
    "        err=Error(x,y,theta)\n",
    "        error_list.append(err)\n",
    "        theta_list.append(theta)\n",
    "        theta[0]-=learning_rate*grad[0]\n",
    "        theta[1]-=learning_rate*grad[1]\n",
    "        \n",
    "        itr+=1\n",
    "        \n",
    "    return theta,error_list,theta_list"
   ]
  },
  {
   "cell_type": "code",
   "execution_count": 13,
   "id": "09418617",
   "metadata": {},
   "outputs": [],
   "source": [
    "final_theta,error_list,theta_list=gradientDescent(x,y)"
   ]
  },
  {
   "cell_type": "code",
   "execution_count": 14,
   "id": "b3a6dd4d",
   "metadata": {},
   "outputs": [],
   "source": [
    "# print(final_theta) # one single value\n",
    "# print(error_list) # 1d\n",
    "# print(theta_list) # 2d\n"
   ]
  },
  {
   "cell_type": "code",
   "execution_count": 15,
   "id": "3df17452",
   "metadata": {},
   "outputs": [
    {
     "data": {
      "image/png": "[encoded data removed]",
      "text/plain": [
       "<Figure size 432x288 with 1 Axes>"
      ]
     },
     "metadata": {
      "needs_background": "light"
     },
     "output_type": "display_data"
    }
   ],
   "source": [
    "plt.plot(error_list,color=\"black\")\n",
    "plt.show()"
   ]
  },
  {
   "cell_type": "code",
   "execution_count": 67,
   "id": "66539982",
   "metadata": {},
   "outputs": [
    {
     "name": "stdout",
     "output_type": "stream",
     "text": [
      "[0.996554  0.0013579]\n"
     ]
    }
   ],
   "source": [
    "print(final_theta)"
   ]
  },
  {
   "cell_type": "code",
   "execution_count": 16,
   "id": "d25c3c30",
   "metadata": {},
   "outputs": [],
   "source": [
    "# plot the line for treating data\n"
   ]
  },
  {
   "cell_type": "code",
   "execution_count": 17,
   "id": "bb927930",
   "metadata": {},
   "outputs": [
    {
     "name": "stdout",
     "output_type": "stream",
     "text": [
      "[-2.         -1.11111111 -0.22222222  0.66666667  1.55555556  2.44444444\n",
      "  3.33333333  4.22222222  5.11111111  6.        ]\n"
     ]
    }
   ],
   "source": [
    "# test data to predict line \n",
    "xtest=np.linspace(-2,6,10)\n",
    "print(xtest)"
   ]
  },
  {
   "cell_type": "code",
   "execution_count": 18,
   "id": "97bed0e9",
   "metadata": {},
   "outputs": [
    {
     "data": {
      "image/png": "[encoded data removed]",
      "text/plain": [
       "<Figure size 432x288 with 1 Axes>"
      ]
     },
     "metadata": {
      "needs_background": "light"
     },
     "output_type": "display_data"
    }
   ],
   "source": [
    "plt.scatter(x,y,label=\"Training data\",color=\"black\")\n",
    "plt.plot(xtest,hypothesis(xtest,final_theta),color=\"Blue\",label=\"prediction\")\n",
    "plt.legend()\n",
    "plt.show()"
   ]
  },
  {
   "cell_type": "code",
   "execution_count": null,
   "id": "63971d2b",
   "metadata": {},
   "outputs": [],
   "source": []
  }
 ],
 "metadata": {
  "kernelspec": {
   "display_name": "Python 3",
   "language": "python",
   "name": "python3"
  },
  "language_info": {
   "codemirror_mode": {
    "name": "ipython",
    "version": 3
   },
   "file_extension": ".py",
   "mimetype": "text/x-python",
   "name": "python",
   "nbconvert_exporter": "python",
   "pygments_lexer": "ipython3",
   "version": "3.8.8"
  }
 },
 "nbformat": 4,
 "nbformat_minor": 5
}
