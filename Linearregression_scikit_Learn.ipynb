{
 "cells": [
  {
   "cell_type": "markdown",
   "id": "27d55b5b",
   "metadata": {},
   "source": [
    "# Linear regression Scikit learn"
   ]
  },
  {
   "cell_type": "code",
   "execution_count": 1,
   "id": "d7c03383",
   "metadata": {},
   "outputs": [],
   "source": [
    "# import libraries\n",
    "\n",
    "import numpy as np\n",
    "import pandas as pd\n",
    "import matplotlib.pyplot as plt"
   ]
  },
  {
   "cell_type": "code",
   "execution_count": 2,
   "id": "70dc3ee1",
   "metadata": {},
   "outputs": [],
   "source": [
    "# Data prepossesing | from file"
   ]
  },
  {
   "cell_type": "code",
   "execution_count": 3,
   "id": "dc05c852",
   "metadata": {},
   "outputs": [
    {
     "name": "stdout",
     "output_type": "stream",
     "text": [
      "(99, 1)\n",
      "(99, 1)\n"
     ]
    }
   ],
   "source": [
    "dfx=pd.read_csv('linearX.csv')\n",
    "dfy=pd.read_csv('linearY.csv')\n",
    "\n",
    "dfx=dfx.values # 2d list\n",
    "dfy=dfy.values # 2d list\n",
    "\n",
    "x=dfx.reshape((-1,1)) # convert into 1d\n",
    "y=dfy.reshape((-1,1)) # convert into 1d\n",
    "\n",
    "print(x.shape)\n",
    "print(y.shape)\n",
    "\n"
   ]
  },
  {
   "cell_type": "code",
   "execution_count": 4,
   "id": "95a76f4a",
   "metadata": {},
   "outputs": [],
   "source": [
    "# plloting\n"
   ]
  },
  {
   "cell_type": "code",
   "execution_count": 5,
   "id": "f2165578",
   "metadata": {},
   "outputs": [
    {
     "data": {
      "image/png": "[encoded data removed]",
      "text/plain": [
       "<Figure size 432x288 with 1 Axes>"
      ]
     },
     "metadata": {
      "needs_background": "light"
     },
     "output_type": "display_data"
    }
   ],
   "source": [
    "plt.title(\"Data points\")\n",
    "plt.scatter(x,y,color=\"red\")\n",
    "plt.show()"
   ]
  },
  {
   "cell_type": "code",
   "execution_count": 10,
   "id": "caafe5c1",
   "metadata": {},
   "outputs": [],
   "source": [
    "\n",
    "from sklearn.linear_model import LinearRegression"
   ]
  },
  {
   "cell_type": "code",
   "execution_count": 11,
   "id": "a45c98ce",
   "metadata": {},
   "outputs": [],
   "source": [
    "model=LinearRegression()"
   ]
  },
  {
   "cell_type": "code",
   "execution_count": 12,
   "id": "93ab5afb",
   "metadata": {},
   "outputs": [
    {
     "data": {
      "text/plain": [
       "LinearRegression()"
      ]
     },
     "execution_count": 12,
     "metadata": {},
     "output_type": "execute_result"
    }
   ],
   "source": [
    "\n",
    "# Training data set\n",
    "\n",
    "model.fit(x,y)"
   ]
  },
  {
   "cell_type": "code",
   "execution_count": 44,
   "id": "5319865e",
   "metadata": {},
   "outputs": [],
   "source": [
    "# prediction"
   ]
  },
  {
   "cell_type": "code",
   "execution_count": 14,
   "id": "a95116fb",
   "metadata": {},
   "outputs": [],
   "source": [
    "output=model.predict(x)"
   ]
  },
  {
   "cell_type": "code",
   "execution_count": 15,
   "id": "20c5a83b",
   "metadata": {},
   "outputs": [
    {
     "name": "stdout",
     "output_type": "stream",
     "text": [
      "[0.9903092]\n",
      "[[0.00078556]]\n"
     ]
    }
   ],
   "source": [
    "bias=model.intercept_\n",
    "coeff=model.coef_\n",
    "\n",
    "print(bias)\n",
    "print(coeff)"
   ]
  },
  {
   "cell_type": "code",
   "execution_count": 16,
   "id": "cbc356b4",
   "metadata": {},
   "outputs": [
    {
     "data": {
      "text/plain": [
       "0.43818504557919546"
      ]
     },
     "execution_count": 16,
     "metadata": {},
     "output_type": "execute_result"
    }
   ],
   "source": [
    "model.score(x,y)"
   ]
  },
  {
   "cell_type": "code",
   "execution_count": 13,
   "id": "50e2456f",
   "metadata": {},
   "outputs": [],
   "source": [
    "## Visaulizae it\n"
   ]
  },
  {
   "cell_type": "code",
   "execution_count": 17,
   "id": "357961fe",
   "metadata": {},
   "outputs": [
    {
     "data": {
      "image/png": "[encoded data removed]",
      "text/plain": [
       "<Figure size 432x288 with 1 Axes>"
      ]
     },
     "metadata": {
      "needs_background": "light"
     },
     "output_type": "display_data"
    }
   ],
   "source": [
    "plt.scatter(x,y,label=\"data\",color=\"red\")\n",
    "plt.plot(x,output,color=\"Black\",label=\"Predication\")\n",
    "plt.legend()\n",
    "plt.show()\n"
   ]
  },
  {
   "cell_type": "code",
   "execution_count": null,
   "id": "cd5ff2f0",
   "metadata": {},
   "outputs": [],
   "source": []
  }
 ],
 "metadata": {
  "kernelspec": {
   "display_name": "Python 3",
   "language": "python",
   "name": "python3"
  },
  "language_info": {
   "codemirror_mode": {
    "name": "ipython",
    "version": 3
   },
   "file_extension": ".py",
   "mimetype": "text/x-python",
   "name": "python",
   "nbconvert_exporter": "python",
   "pygments_lexer": "ipython3",
   "version": "3.8.8"
  }
 },
 "nbformat": 4,
 "nbformat_minor": 5
}
